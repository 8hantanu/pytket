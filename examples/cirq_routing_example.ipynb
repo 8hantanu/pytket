{
 "cells": [
  {
   "cell_type": "markdown",
   "metadata": {},
   "source": [
    "# Cirq - t|ket> routing example"
   ]
  },
  {
   "cell_type": "markdown",
   "metadata": {},
   "source": [
    "This example shows how to map circuits to devices using Cirq and t|ket>. You will need both pytket and pytket_cirq installed using pip before running this turoial. E.g.\n",
    "```\n",
    "pip install pytket\n",
    "pip install pytket_cirq\n",
    "```\n",
    "\n",
    "First import cirq and required classes and functions from t|ket>.\n",
    "`SquareGrid` is the t|ket> class representing a rectangular grid of qubits, with qubits indexed continuously from (0,0), e.g. for a 3x3 grid, the indexing is: \n",
    "\n",
    "0 1 2 <br>\n",
    "3 4 5 <br>\n",
    "6 7 8\n",
    "\n",
    "`SquareGrid` can be used to generate XmonDevice objects corresponding to rectangular grids. \n",
    "\n",
    "`route` will take our circuit and return a physical circuit mapped to the provided XmonDevice. Routing involves optimally adding swap commands such that the necessary 2-qubit interactions only take place between nearest-neighbour qubits (as is normally the case with superconducting qubits). <br>\n",
    "\n",
    "`get_grid_qubits` is a helper function to return a list of cirq.GridQubit which correspond to a list of provided indices on the given SquareGrid."
   ]
  },
  {
   "cell_type": "code",
   "execution_count": 1,
   "metadata": {},
   "outputs": [],
   "source": [
    "import cirq\n",
    "\n",
    "from pytket._routing import SquareGrid, route\n",
    "from pytket.cirq import get_grid_qubits, cirq_to_tk, tk_to_cirq"
   ]
  },
  {
   "cell_type": "markdown",
   "metadata": {},
   "source": [
    "Let's initialize a 3x3 grid and get the corresponding 9 qubits. This will be useful later on for translating qubits back to their locations on this grid."
   ]
  },
  {
   "cell_type": "code",
   "execution_count": 2,
   "metadata": {},
   "outputs": [],
   "source": [
    "arc = SquareGrid(3, 3)\n",
    "qubits = get_grid_qubits(arc, range(9))"
   ]
  },
  {
   "cell_type": "markdown",
   "metadata": {},
   "source": [
    "Generate an arbitrary sample circuit. See the [readme](https://github.com/CQCL/pytket/blob/master/README.md) for currently supported gates, more added soon!"
   ]
  },
  {
   "cell_type": "code",
   "execution_count": 3,
   "metadata": {},
   "outputs": [
    {
     "data": {
      "text/html": [
       "<pre style=\"overflow: auto; white-space: pre;\">               ┌──┐               ┌──┐\n",
       "(0, 0): ───H────@─────M──────────────────────\n",
       "                │\n",
       "(0, 1): ───X────┼M───────────────────────────\n",
       "                │\n",
       "(0, 2): ───Y────┼─────@───M──────────────────\n",
       "                │     │\n",
       "(1, 0): ────────┼─────┼───@───Y────@─────M───\n",
       "                │     │   │        │\n",
       "(1, 1): ────────X─────X───X───Z────┼M────────\n",
       "                                   │\n",
       "(1, 2): ───────────────────────────X─────────\n",
       "               └──┘               └──┘</pre>"
      ],
      "text/plain": [
       "               ┌──┐               ┌──┐\n",
       "(0, 0): ───H────@─────M──────────────────────\n",
       "                │\n",
       "(0, 1): ───X────┼M───────────────────────────\n",
       "                │\n",
       "(0, 2): ───Y────┼─────@───M──────────────────\n",
       "                │     │\n",
       "(1, 0): ────────┼─────┼───@───Y────@─────M───\n",
       "                │     │   │        │\n",
       "(1, 1): ────────X─────X───X───Z────┼M────────\n",
       "                                   │\n",
       "(1, 2): ───────────────────────────X─────────\n",
       "               └──┘               └──┘"
      ]
     },
     "execution_count": 3,
     "metadata": {},
     "output_type": "execute_result"
    }
   ],
   "source": [
    "circuit = cirq.Circuit.from_ops(\n",
    "        cirq.H(qubits[0]),\n",
    "        cirq.X(qubits[1]),\n",
    "        cirq.CNOT(qubits[0], qubits[4]),\n",
    "        cirq.Y(qubits[2]),\n",
    "        cirq.CNOT(qubits[2], qubits[4]),\n",
    "        cirq.CNOT(qubits[3], qubits[4]),\n",
    "        cirq.Y(qubits[3]),\n",
    "        cirq.CNOT(qubits[3], qubits[5]),\n",
    "        cirq.Z(qubits[4])\n",
    "    )\n",
    "circuit.append(cirq.measure_each(*qubits[:5]))\n",
    "circuit"
   ]
  },
  {
   "cell_type": "markdown",
   "metadata": {},
   "source": [
    "And now we can route the circuit on the architecture, subject to the constraint that the 2-qubit interactions can only occur between neighbouring qubits. We start by converting it to a tket Circuit object using `cirq_to_tk`, and the qubits we started with."
   ]
  },
  {
   "cell_type": "code",
   "execution_count": 4,
   "metadata": {},
   "outputs": [
    {
     "data": {
      "text/html": [
       "<pre style=\"overflow: auto; white-space: pre;\">                        ┌───────┐\n",
       "(0, 0): ─────────────────────────────────────────X─────────────────\n",
       "                                                 │\n",
       "(0, 1): ────────────────────────────@────────Y───@────────M('c')───\n",
       "                                    │\n",
       "(0, 2): ───X───M('c')───────────────┼──────────────────────────────\n",
       "                                    │\n",
       "(1, 1): ───────X─────────X──────────X────────Z───M('c')────────────\n",
       "               │         │\n",
       "(1, 2): ───H───@─────────┼M('c')───────────────────────────────────\n",
       "                         │\n",
       "(2, 1): ───Y─────────────@──────────M('c')─────────────────────────\n",
       "                        └───────┘</pre>"
      ],
      "text/plain": [
       "                        ┌───────┐\n",
       "(0, 0): ─────────────────────────────────────────X─────────────────\n",
       "                                                 │\n",
       "(0, 1): ────────────────────────────@────────Y───@────────M('c')───\n",
       "                                    │\n",
       "(0, 2): ───X───M('c')───────────────┼──────────────────────────────\n",
       "                                    │\n",
       "(1, 1): ───────X─────────X──────────X────────Z───M('c')────────────\n",
       "               │         │\n",
       "(1, 2): ───H───@─────────┼M('c')───────────────────────────────────\n",
       "                         │\n",
       "(2, 1): ───Y─────────────@──────────M('c')─────────────────────────\n",
       "                        └───────┘"
      ]
     },
     "execution_count": 4,
     "metadata": {},
     "output_type": "execute_result"
    }
   ],
   "source": [
    "tk_circ = cirq_to_tk(circuit)\n",
    "tk_routed = route(tk_circ, arc)\n",
    "tk_to_cirq(tk_routed, qubits)"
   ]
  },
  {
   "cell_type": "markdown",
   "metadata": {},
   "source": [
    "Routing has relabelled our qubits and added swap operations to make our circuit compliant to the device. The labels on the measurement gates tell us which of our original qubits these measurements correspond to, meaning we can still interpret our results the same way.\n",
    "\n",
    "Two swaps were needed to route this particular circuit. Can it be done with fewer?"
   ]
  }
 ],
 "metadata": {
  "kernelspec": {
   "display_name": "Python [conda env:tket] *",
   "language": "python",
   "name": "conda-env-tket-py"
  },
  "language_info": {
   "codemirror_mode": {
    "name": "ipython",
    "version": 3
   },
   "file_extension": ".py",
   "mimetype": "text/x-python",
   "name": "python",
   "nbconvert_exporter": "python",
   "pygments_lexer": "ipython3",
   "version": "3.6.8"
  }
 },
 "nbformat": 4,
 "nbformat_minor": 2
}
