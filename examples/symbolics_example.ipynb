{
 "cells": [
  {
   "cell_type": "markdown",
   "metadata": {},
   "source": [
    "# Symbolic Compilation - t|ket> example"
   ]
  },
  {
   "cell_type": "markdown",
   "metadata": {},
   "source": [
    "Motivation: In compilation, particularly of hybrid classical-quantum variational algorithms in which the structure of a circuit remains constant but the parameters of some gates change, it can be useful to compile using symbolic mathematics and optimise the circuit without knowledge of what these parameters will be instantiated to afterwards.\n",
    "\n",
    "In this tutorial, we will show how to compile a circuit which has symbols, and then instantiate the symbols afterwards. To do this, you need to have pytket installed. Run:\n",
    "```\n",
    "pip install pytket\n",
    "```\n",
    "We will also be using the circuit drawing tool from IBM's Qiskit, although this is only for visualisation and is not necessary to do symbolic compilation using pytket. To use the converter:\n",
    "```\n",
    "pip install pytket_qiskit\n",
    "```\n",
    "To begin the demo, we will import the Circuit and Transform classes from pytket, and the `fresh_symbol` method from pytket._circuit."
   ]
  },
  {
   "cell_type": "code",
   "execution_count": 1,
   "metadata": {},
   "outputs": [],
   "source": [
    "from pytket import Circuit, Transform\n",
    "from pytket._circuit import fresh_symbol"
   ]
  },
  {
   "cell_type": "markdown",
   "metadata": {},
   "source": [
    "Now, we can construct a circuit containing symbols. You can ask for symbols by calling the `fresh_symbol` method with a string as an argument. This string represents the preferred symbol name - if this is disallowed because it has already been used elsewhere, an appropriate suffix of the form \"_x\", with 'x' a natural number, will be added to generate a new symbol, as shown below:"
   ]
  },
  {
   "cell_type": "code",
   "execution_count": 2,
   "metadata": {},
   "outputs": [
    {
     "name": "stdout",
     "output_type": "stream",
     "text": [
      "a\n",
      "a_1\n"
     ]
    }
   ],
   "source": [
    "a = fresh_symbol(\"a\")\n",
    "a1 = fresh_symbol(\"a\")\n",
    "print(a)\n",
    "print(a1)"
   ]
  },
  {
   "cell_type": "markdown",
   "metadata": {},
   "source": [
    "We are going to make a circuit made out of just 3 \"phase-gadgets\" - `Rz` gates surrounded by ladders of `CX` gates."
   ]
  },
  {
   "cell_type": "code",
   "execution_count": 3,
   "metadata": {},
   "outputs": [
    {
     "data": {
      "text/plain": [
       "<tket::Circuit qubits=4, gates=21>"
      ]
     },
     "execution_count": 3,
     "metadata": {},
     "output_type": "execute_result"
    }
   ],
   "source": [
    "b = fresh_symbol(\"b\")\n",
    "circ = Circuit(4)\n",
    "circ.CX(0,1)\n",
    "circ.CX(1,2)\n",
    "circ.CX(2,3)\n",
    "circ.Rz(3,a)\n",
    "circ.CX(2,3)\n",
    "circ.CX(1,2)\n",
    "circ.CX(0,1)\n",
    "circ.CX(3,2)\n",
    "circ.CX(2,1)\n",
    "circ.CX(1,0)\n",
    "circ.Rz(0,b)\n",
    "circ.CX(1,0)\n",
    "circ.CX(2,1)\n",
    "circ.CX(3,2)\n",
    "circ.CX(0,1)\n",
    "circ.CX(1,2)\n",
    "circ.CX(2,3)\n",
    "circ.Rz(3,0.5)\n",
    "circ.CX(2,3)\n",
    "circ.CX(1,2)\n",
    "circ.CX(0,1)"
   ]
  },
  {
   "cell_type": "markdown",
   "metadata": {},
   "source": [
    "Now we can use IBM's Qiskit circuit visualiser to display the circuit. For more explanation of our converters, see the \"transform_example\" notebook. Note that Qiskit can, conveniently, use symbolics as well."
   ]
  },
  {
   "cell_type": "code",
   "execution_count": 4,
   "metadata": {},
   "outputs": [
    {
     "name": "stdout",
     "output_type": "stream",
     "text": [
      "                                                       ┌───┐┌──────────┐┌───┐»\n",
      "q_0: |0>──■────────────────────────────────────■───────┤ X ├┤ Rz(pi*b) ├┤ X ├»\n",
      "        ┌─┴─┐                                ┌─┴─┐┌───┐└─┬─┘└──────────┘└─┬─┘»\n",
      "q_1: |0>┤ X ├──■──────────────────────────■──┤ X ├┤ X ├──■────────────────■──»\n",
      "        └───┘┌─┴─┐                      ┌─┴─┐├───┤└─┬─┘                      »\n",
      "q_2: |0>─────┤ X ├──■────────────────■──┤ X ├┤ X ├──■────────────────────────»\n",
      "             └───┘┌─┴─┐┌──────────┐┌─┴─┐└───┘└─┬─┘                           »\n",
      "q_3: |0>──────────┤ X ├┤ Rz(pi*a) ├┤ X ├───────■─────────────────────────────»\n",
      "                  └───┘└──────────┘└───┘                                     »\n",
      "«                                                      \n",
      "«q_0: ───────■──────────────────────────────────────■──\n",
      "«     ┌───┐┌─┴─┐                                  ┌─┴─┐\n",
      "«q_1: ┤ X ├┤ X ├──■────────────────────────────■──┤ X ├\n",
      "«     └─┬─┘├───┤┌─┴─┐                        ┌─┴─┐└───┘\n",
      "«q_2: ──■──┤ X ├┤ X ├──■──────────────────■──┤ X ├─────\n",
      "«          └─┬─┘└───┘┌─┴─┐┌────────────┐┌─┴─┐└───┘     \n",
      "«q_3: ───────■───────┤ X ├┤ Rz(0.5*pi) ├┤ X ├──────────\n",
      "«                    └───┘└────────────┘└───┘          \n"
     ]
    }
   ],
   "source": [
    "from pytket.qiskit import tk_to_qiskit\n",
    "\n",
    "def print_tkcirc_via_qiskit(tkcirc):\n",
    "    qiskit_qcirc = tk_to_qiskit(tkcirc)\n",
    "    print(qiskit_qcirc)\n",
    "    \n",
    "print_tkcirc_via_qiskit(circ)"
   ]
  },
  {
   "cell_type": "markdown",
   "metadata": {},
   "source": [
    "Now let's use a Transform to shrink the circuit. For more detail on Transforms, see the \"transform_example\" notebook."
   ]
  },
  {
   "cell_type": "code",
   "execution_count": 5,
   "metadata": {},
   "outputs": [
    {
     "name": "stdout",
     "output_type": "stream",
     "text": [
      "                                                    \n",
      "q_0: |0>──■──────────────────────────────────────■──\n",
      "        ┌─┴─┐                                  ┌─┴─┐\n",
      "q_1: |0>┤ X ├──■────────────────────────────■──┤ X ├\n",
      "        ├───┤┌─┴─┐┌──────────────────────┐┌─┴─┐├───┤\n",
      "q_2: |0>┤ X ├┤ X ├┤ U1(pi*(a + b + 0.5)) ├┤ X ├┤ X ├\n",
      "        └─┬─┘└───┘└──────────────────────┘└───┘└─┬─┘\n",
      "q_3: |0>──■──────────────────────────────────────■──\n",
      "                                                    \n"
     ]
    }
   ],
   "source": [
    "Transform.OptimisePhaseGadgets().apply(circ)\n",
    "print_tkcirc_via_qiskit(circ)"
   ]
  },
  {
   "cell_type": "markdown",
   "metadata": {},
   "source": [
    "Note that the type of gate has changed to a `U1`, but the phase-gadgets have been successfully combined. The `U1` gate is an IBM-specific gate that is equivalent to an `Rz` up to global phase.\n",
    "\n",
    "We can now instantiate the symbols with some desired values. We make a dictionary, with each key a symbol name, and each value a double. Note that this value is in units of \"half-turns\", a natural unit in which π = 1.\n",
    "\n",
    "We will make a circuit copy of the symbolic circuit, so that we can hold this in memory and, each time we need to instantiate our parameters, we can just copy this and instantiate, without requiring compilation again."
   ]
  },
  {
   "cell_type": "code",
   "execution_count": 6,
   "metadata": {},
   "outputs": [],
   "source": [
    "symbol_circ = circ.copy()\n",
    "\n",
    "symbol_dict = {a : 0.5, b : 0.75}\n",
    "circ.symbol_substitution(symbol_dict)"
   ]
  },
  {
   "cell_type": "code",
   "execution_count": 7,
   "metadata": {},
   "outputs": [
    {
     "name": "stdout",
     "output_type": "stream",
     "text": [
      "                                           \n",
      "q_0: |0>──■─────────────────────────────■──\n",
      "        ┌─┴─┐                         ┌─┴─┐\n",
      "q_1: |0>┤ X ├──■───────────────────■──┤ X ├\n",
      "        ├───┤┌─┴─┐┌─────────────┐┌─┴─┐├───┤\n",
      "q_2: |0>┤ X ├┤ X ├┤ U1(1.75*pi) ├┤ X ├┤ X ├\n",
      "        └─┬─┘└───┘└─────────────┘└───┘└─┬─┘\n",
      "q_3: |0>──■─────────────────────────────■──\n",
      "                                           \n"
     ]
    }
   ],
   "source": [
    "print_tkcirc_via_qiskit(circ)"
   ]
  },
  {
   "cell_type": "markdown",
   "metadata": {},
   "source": [
    "Because this symbol substitution is local to the circuit it is called on, we still have a symbolic circuit."
   ]
  },
  {
   "cell_type": "code",
   "execution_count": 8,
   "metadata": {},
   "outputs": [
    {
     "name": "stdout",
     "output_type": "stream",
     "text": [
      "                                                    \n",
      "q_0: |0>──■──────────────────────────────────────■──\n",
      "        ┌─┴─┐                                  ┌─┴─┐\n",
      "q_1: |0>┤ X ├──■────────────────────────────■──┤ X ├\n",
      "        ├───┤┌─┴─┐┌──────────────────────┐┌─┴─┐├───┤\n",
      "q_2: |0>┤ X ├┤ X ├┤ U1(pi*(a + b + 0.5)) ├┤ X ├┤ X ├\n",
      "        └─┬─┘└───┘└──────────────────────┘└───┘└─┬─┘\n",
      "q_3: |0>──■──────────────────────────────────────■──\n",
      "                                                    \n"
     ]
    }
   ],
   "source": [
    "print_tkcirc_via_qiskit(symbol_circ)"
   ]
  },
  {
   "cell_type": "markdown",
   "metadata": {},
   "source": [
    "Note: the expression tree for this symbolic expression is very small and only consists of a couple of different operations, but t|ket> is capable of large and complicated expressions containing many different types of operation, eg trig functions.\n",
    "\n",
    "Obviously, it is possible to instantiate a circuit with values such that the circuit can be optimised further - if we had chosen `a=1.5` and `b=0.`, for example, this circuit would be equal to identity. If there are likely to be many parameters set to trivial values (eg 0 or 1), performing further optimisation post-instantiation can be beneficial."
   ]
  }
 ],
 "metadata": {
  "kernelspec": {
   "display_name": "Python [conda env:tket] *",
   "language": "python",
   "name": "conda-env-tket-py"
  },
  "language_info": {
   "codemirror_mode": {
    "name": "ipython",
    "version": 3
   },
   "file_extension": ".py",
   "mimetype": "text/x-python",
   "name": "python",
   "nbconvert_exporter": "python",
   "pygments_lexer": "ipython3",
   "version": "3.6.8"
  }
 },
 "nbformat": 4,
 "nbformat_minor": 2
}
