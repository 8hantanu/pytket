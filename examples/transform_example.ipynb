{
 "cells": [
  {
   "cell_type": "markdown",
   "metadata": {},
   "source": [
    "# Basic Transforms and Conversion - t|ket> example"
   ]
  },
  {
   "cell_type": "markdown",
   "metadata": {},
   "source": [
    "With pytket v0.2.0 comes a selection of available `Transform` passes and subpackages to enable conversion to external data types. We now support Google Cirq, IBM Qiskit, Pyzx, ProjectQ and Rigetti pyQuil.\n",
    "\n",
    "In this notebook, we will demonstrate a series of `Transform` passes and export to the above external frameworks. To do this, we will need to install core `pytket`, as well as the subpackage for each framework, so first run:\n",
    "\n",
    "```\n",
    "pip install pytket\n",
    "pip install pytket_cirq\n",
    "pip install pytket_qiskit\n",
    "pip install pytket_projectq\n",
    "pip install pytket_pyquil\n",
    "pip install pytket_pyzx\n",
    "```\n",
    "\n",
    "Note that to use the `pytket.pyzx` converter, you must go to the PyZX github repo (https://github.com/Quantomatic/pyzx) and install from source."
   ]
  },
  {
   "cell_type": "markdown",
   "metadata": {},
   "source": [
    "Now, let us construct a pytket `Circuit` object."
   ]
  },
  {
   "cell_type": "code",
   "execution_count": 1,
   "metadata": {},
   "outputs": [],
   "source": [
    "from pytket import Circuit, OpType"
   ]
  },
  {
   "cell_type": "code",
   "execution_count": 2,
   "metadata": {},
   "outputs": [
    {
     "name": "stdout",
     "output_type": "stream",
     "text": [
      "<tket::Circuit qubits=4, gates=22>\n"
     ]
    }
   ],
   "source": [
    "circ = Circuit(4)\n",
    "circ.T(3)\n",
    "circ.S(3)\n",
    "circ.CX(3,2)\n",
    "circ.CX(2,1)\n",
    "circ.CX(1,0)\n",
    "circ.Rz(0,0.4)\n",
    "circ.CX(1,0)\n",
    "circ.CX(2,1)\n",
    "circ.CX(3,2)\n",
    "circ.T(0)\n",
    "circ.Tdg(0)\n",
    "circ.H(2)\n",
    "circ.H(2)\n",
    "circ.Sdg(3)\n",
    "circ.Tdg(3)\n",
    "circ.CX(0,1)\n",
    "circ.CX(1,2)\n",
    "circ.CX(2,3)\n",
    "circ.Rz(3,1.1)\n",
    "circ.CX(2,3)\n",
    "circ.CX(1,2)\n",
    "circ.CX(0,1)\n",
    "print(circ) #prints only basic information about the Circuit"
   ]
  },
  {
   "cell_type": "markdown",
   "metadata": {},
   "source": [
    "Let's copy this `Circuit` a few times. We will need these copies later.\n",
    "\n",
    "We can get some more stats out about this `Circuit` than just what was shown in the print method above:"
   ]
  },
  {
   "cell_type": "code",
   "execution_count": 3,
   "metadata": {},
   "outputs": [
    {
     "name": "stdout",
     "output_type": "stream",
     "text": [
      "Circuit depth =  17\n",
      "Circuit CX count =  12\n",
      "Circuit CX depth =  11\n"
     ]
    }
   ],
   "source": [
    "circ2 = circ.copy()\n",
    "circ3 = circ.copy()\n",
    "\n",
    "def get_stats(tkcirc):\n",
    "    print(\"Circuit depth = \", tkcirc.depth())\n",
    "    print(\"Circuit CX count = \", tkcirc.n_gates_of_type(OpType.CX))\n",
    "    print(\"Circuit CX depth = \", tkcirc.depth_by_type(OpType.CX))\n",
    "\n",
    "get_stats(circ)"
   ]
  },
  {
   "cell_type": "markdown",
   "metadata": {},
   "source": [
    "We can also visualise the `Circuit` using, for example, IBM Qiskit's `QuantumCircuit` printer. To do this, we must use the `pytket.qiskit` subpackage and import a method from within Qiskit."
   ]
  },
  {
   "cell_type": "code",
   "execution_count": 4,
   "metadata": {},
   "outputs": [],
   "source": [
    "from pytket.qiskit import tk_to_qiskit"
   ]
  },
  {
   "cell_type": "code",
   "execution_count": 5,
   "metadata": {},
   "outputs": [
    {
     "name": "stdout",
     "output_type": "stream",
     "text": [
      "                            ┌───┐┌────────────┐┌───┐┌───┐┌─────┐              »\n",
      "q_0: |0>────────────────────┤ X ├┤ Rz(0.4*pi) ├┤ X ├┤ T ├┤ Tdg ├───■──────────»\n",
      "                       ┌───┐└─┬─┘└────────────┘└─┬─┘├───┤└─────┘ ┌─┴─┐        »\n",
      "q_1: |0>───────────────┤ X ├──■──────────────────■──┤ X ├────────┤ X ├────────»\n",
      "                  ┌───┐└─┬─┘                        └─┬─┘ ┌───┐  ├───┤  ┌───┐ »\n",
      "q_2: |0>──────────┤ X ├──■────────────────────────────■───┤ X ├──┤ H ├──┤ H ├─»\n",
      "        ┌───┐┌───┐└─┬─┘                                   └─┬─┘ ┌┴───┴┐┌┴───┴┐»\n",
      "q_3: |0>┤ T ├┤ S ├──■───────────────────────────────────────■───┤ Sdg ├┤ Tdg ├»\n",
      "        └───┘└───┘                                              └─────┘└─────┘»\n",
      "«                                            \n",
      "«q_0: ────────────────────────────────────■──\n",
      "«                                       ┌─┴─┐\n",
      "«q_1: ──■────────────────────────────■──┤ X ├\n",
      "«     ┌─┴─┐                        ┌─┴─┐└───┘\n",
      "«q_2: ┤ X ├──■──────────────────■──┤ X ├─────\n",
      "«     └───┘┌─┴─┐┌────────────┐┌─┴─┐└───┘     \n",
      "«q_3: ─────┤ X ├┤ Rz(1.1*pi) ├┤ X ├──────────\n",
      "«          └───┘└────────────┘└───┘          \n"
     ]
    }
   ],
   "source": [
    "def print_tkcirc_via_qiskit(tkcirc):\n",
    "    copy_tkcirc = tkcirc.copy()\n",
    "    qiskit_qcirc = tk_to_qiskit(copy_tkcirc)\n",
    "    print(qiskit_qcirc)\n",
    "    \n",
    "print_tkcirc_via_qiskit(circ)"
   ]
  },
  {
   "cell_type": "markdown",
   "metadata": {},
   "source": [
    "This is a `Circuit` consisting of two sequential \"phase-gadgets\", consisting of Z-rotations inside CX ladders. There are some local gates between the two phase-gadgets. This `Circuit` has structure similar to what can be generated for molecular quantum chemistry.\n",
    "\n",
    "We will now perform some `Transform` passes on our `Circuit`. To do this we need to import the `Transform` class."
   ]
  },
  {
   "cell_type": "code",
   "execution_count": 6,
   "metadata": {},
   "outputs": [],
   "source": [
    "from pytket import Transform"
   ]
  },
  {
   "cell_type": "markdown",
   "metadata": {},
   "source": [
    "The first `Transform` we will use is for cleaning up the obvious obsolete gates (`T`,`Tdg`,`H`) in between the phase-gadgets."
   ]
  },
  {
   "cell_type": "code",
   "execution_count": 7,
   "metadata": {},
   "outputs": [
    {
     "data": {
      "text/plain": [
       "True"
      ]
     },
     "execution_count": 7,
     "metadata": {},
     "output_type": "execute_result"
    }
   ],
   "source": [
    "Transform.RemoveRedundancies().apply(circ)"
   ]
  },
  {
   "cell_type": "markdown",
   "metadata": {},
   "source": [
    "As you can see, the `Transform` pass, when applied to a `Circuit`, returns a bool. This bool tells you whether or not the pass performed a successful rewrite rule on the `Circuit` - using the same visualisation method as before, we can show that it has successfully removed the trivial redundant gates. "
   ]
  },
  {
   "cell_type": "code",
   "execution_count": 8,
   "metadata": {},
   "outputs": [
    {
     "name": "stdout",
     "output_type": "stream",
     "text": [
      "                            ┌───┐┌────────────┐┌───┐                        »\n",
      "q_0: |0>────────────────────┤ X ├┤ Rz(0.4*pi) ├┤ X ├───────■────────────────»\n",
      "                       ┌───┐└─┬─┘└────────────┘└─┬─┘┌───┐┌─┴─┐              »\n",
      "q_1: |0>───────────────┤ X ├──■──────────────────■──┤ X ├┤ X ├───■──────────»\n",
      "                  ┌───┐└─┬─┘                        └─┬─┘├───┤ ┌─┴─┐        »\n",
      "q_2: |0>──────────┤ X ├──■────────────────────────────■──┤ X ├─┤ X ├────────»\n",
      "        ┌───┐┌───┐└─┬─┘                                  └─┬─┘┌┴───┴┐┌─────┐»\n",
      "q_3: |0>┤ T ├┤ S ├──■──────────────────────────────────────■──┤ Sdg ├┤ Tdg ├»\n",
      "        └───┘└───┘                                            └─────┘└─────┘»\n",
      "«                                       \n",
      "«q_0: ───────────────────────────────■──\n",
      "«                                  ┌─┴─┐\n",
      "«q_1: ──────────────────────────■──┤ X ├\n",
      "«                             ┌─┴─┐└───┘\n",
      "«q_2: ──■──────────────────■──┤ X ├─────\n",
      "«     ┌─┴─┐┌────────────┐┌─┴─┐└───┘     \n",
      "«q_3: ┤ X ├┤ Rz(1.1*pi) ├┤ X ├──────────\n",
      "«     └───┘└────────────┘└───┘          \n"
     ]
    }
   ],
   "source": [
    "print_tkcirc_via_qiskit(circ)"
   ]
  },
  {
   "cell_type": "markdown",
   "metadata": {},
   "source": [
    "However, there are still some spare `S`, `Sdg`, `T` and `Tdg` gates on qubit 3. These can be commuted through the `CX` gates, and this can be demonstrated by our next pass."
   ]
  },
  {
   "cell_type": "code",
   "execution_count": 9,
   "metadata": {},
   "outputs": [
    {
     "name": "stdout",
     "output_type": "stream",
     "text": [
      "                                          ┌───┐┌────────────┐┌───┐          »\n",
      "q_0: |0>──────────────────────────────────┤ X ├┤ Rz(0.4*pi) ├┤ X ├───────■──»\n",
      "                                     ┌───┐└─┬─┘└────────────┘└─┬─┘┌───┐┌─┴─┐»\n",
      "q_1: |0>─────────────────────────────┤ X ├──■──────────────────■──┤ X ├┤ X ├»\n",
      "                                ┌───┐└─┬─┘                        └─┬─┘├───┤»\n",
      "q_2: |0>────────────────────────┤ X ├──■────────────────────────────■──┤ X ├»\n",
      "        ┌───┐┌───┐┌─────┐┌─────┐└─┬─┘                                  └─┬─┘»\n",
      "q_3: |0>┤ T ├┤ S ├┤ Sdg ├┤ Tdg ├──■──────────────────────────────────────■──»\n",
      "        └───┘└───┘└─────┘└─────┘                                            »\n",
      "«                                            \n",
      "«q_0: ────────────────────────────────────■──\n",
      "«                                       ┌─┴─┐\n",
      "«q_1: ──■────────────────────────────■──┤ X ├\n",
      "«     ┌─┴─┐                        ┌─┴─┐└───┘\n",
      "«q_2: ┤ X ├──■──────────────────■──┤ X ├─────\n",
      "«     └───┘┌─┴─┐┌────────────┐┌─┴─┐└───┘     \n",
      "«q_3: ─────┤ X ├┤ Rz(1.1*pi) ├┤ X ├──────────\n",
      "«          └───┘└────────────┘└───┘          \n"
     ]
    }
   ],
   "source": [
    "Transform.CommuteRzRxThroughCX().apply(circ)\n",
    "print_tkcirc_via_qiskit(circ)"
   ]
  },
  {
   "cell_type": "markdown",
   "metadata": {},
   "source": [
    "We could now apply the same `RemoveRedundancies` pass as before and remove these single-qubit gates. Instead, let's take the opportunity to introduce our first `Transform` combinators:"
   ]
  },
  {
   "cell_type": "code",
   "execution_count": 10,
   "metadata": {},
   "outputs": [],
   "source": [
    "new_transform = Transform.repeat(Transform.RemoveRedundancies() >> Transform.CommuteRzRxThroughCX())"
   ]
  },
  {
   "cell_type": "markdown",
   "metadata": {},
   "source": [
    "The `>>` operator combines two passes sequentially. It will return `True` if either of the passes acted successfully on the `Circuit` they are applied to.\n",
    "\n",
    "The `repeat` combinator continually applies the `Transform` it takes as an argument, and ends when this returns `False`.\n",
    "\n",
    "Therefore, this `new_transform` pass is composed of the two from before, and continually applies them sequentially until neither of them returns `True`. We can apply this new pass to `circ2`, a copy we made earlier of our original `Circuit`."
   ]
  },
  {
   "cell_type": "code",
   "execution_count": 11,
   "metadata": {},
   "outputs": [
    {
     "name": "stdout",
     "output_type": "stream",
     "text": [
      "                  ┌───┐┌────────────┐┌───┐                                  »\n",
      "q_0: |0>──────────┤ X ├┤ Rz(0.4*pi) ├┤ X ├───────■──────────────────────────»\n",
      "             ┌───┐└─┬─┘└────────────┘└─┬─┘┌───┐┌─┴─┐                        »\n",
      "q_1: |0>─────┤ X ├──■──────────────────■──┤ X ├┤ X ├──■─────────────────────»\n",
      "        ┌───┐└─┬─┘                        └─┬─┘├───┤┌─┴─┐                   »\n",
      "q_2: |0>┤ X ├──■────────────────────────────■──┤ X ├┤ X ├──■────────────────»\n",
      "        └─┬─┘                                  └─┬─┘└───┘┌─┴─┐┌────────────┐»\n",
      "q_3: |0>──■──────────────────────────────────────■───────┤ X ├┤ Rz(1.1*pi) ├»\n",
      "                                                         └───┘└────────────┘»\n",
      "«                    \n",
      "«q_0: ────────────■──\n",
      "«               ┌─┴─┐\n",
      "«q_1: ───────■──┤ X ├\n",
      "«          ┌─┴─┐└───┘\n",
      "«q_2: ──■──┤ X ├─────\n",
      "«     ┌─┴─┐└───┘     \n",
      "«q_3: ┤ X ├──────────\n",
      "«     └───┘          \n"
     ]
    }
   ],
   "source": [
    "new_transform.apply(circ2)\n",
    "print_tkcirc_via_qiskit(circ2)"
   ]
  },
  {
   "cell_type": "markdown",
   "metadata": {},
   "source": [
    "As you can see, all trivial gates have been removed, and we are left with only the phase-gadgets. Now we can use a more industrial-strength pass. This pass will match the phase-gadgets and optimise them, using techniques from our paper: https://arxiv.org/abs/1906.01734.\n",
    "\n",
    "Note: this pass will automatically do the `RemoveRedundancies` and `CommuteRzRxThroughCX` passes as part of its routine, as well as some others.\n",
    "\n",
    "Using our `circ3` copy of the original `Circuit`:"
   ]
  },
  {
   "cell_type": "code",
   "execution_count": 12,
   "metadata": {},
   "outputs": [
    {
     "name": "stdout",
     "output_type": "stream",
     "text": [
      "                                          \n",
      "q_0: |0>──■────────────────────────────■──\n",
      "        ┌─┴─┐┌───┐┌────────────┐┌───┐┌─┴─┐\n",
      "q_1: |0>┤ X ├┤ X ├┤ U1(1.5*pi) ├┤ X ├┤ X ├\n",
      "        ├───┤└─┬─┘└────────────┘└─┬─┘├───┤\n",
      "q_2: |0>┤ X ├──■──────────────────■──┤ X ├\n",
      "        └─┬─┘                        └─┬─┘\n",
      "q_3: |0>──■────────────────────────────■──\n",
      "                                          \n"
     ]
    }
   ],
   "source": [
    "Transform.OptimisePhaseGadgets().apply(circ3)\n",
    "print_tkcirc_via_qiskit(circ3)"
   ]
  },
  {
   "cell_type": "markdown",
   "metadata": {},
   "source": [
    "Much better! The phase-gadgets act on the same qubits and can therefore be combined into one, then the CX ladder can be converted to a binary tree. Note that the pass has converted the resulting `Rz` gate into a `U1`, an IBM primitive equivalent to an `Rz` gate.\n",
    "\n",
    "Let's see some metrics now."
   ]
  },
  {
   "cell_type": "code",
   "execution_count": 13,
   "metadata": {},
   "outputs": [
    {
     "name": "stdout",
     "output_type": "stream",
     "text": [
      "Circuit depth =  5\n",
      "Circuit CX count =  6\n",
      "Circuit CX depth =  4\n"
     ]
    }
   ],
   "source": [
    "get_stats(circ3)"
   ]
  },
  {
   "cell_type": "markdown",
   "metadata": {},
   "source": [
    "We can also print each `Command` in the `Circuit`, using a simple `for` loop:"
   ]
  },
  {
   "cell_type": "code",
   "execution_count": 14,
   "metadata": {},
   "outputs": [
    {
     "name": "stdout",
     "output_type": "stream",
     "text": [
      "CX q[0], q[1];\n",
      "CX q[3], q[2];\n",
      "CX q[2], q[1];\n",
      "U1(1.5PI) q[1];\n",
      "CX q[2], q[1];\n",
      "CX q[0], q[1];\n",
      "CX q[3], q[2];\n"
     ]
    }
   ],
   "source": [
    "for command in circ3:\n",
    "    command.op\n",
    "    print(command)"
   ]
  },
  {
   "cell_type": "markdown",
   "metadata": {},
   "source": [
    "Let's convert this `Circuit` to PyZX and use its in-built visualisation method. We will have to use additional `Transform` passes to rebase the `U1` gate to their allowed gate types."
   ]
  },
  {
   "cell_type": "code",
   "execution_count": 15,
   "metadata": {},
   "outputs": [],
   "source": [
    "import pyzx as zx\n",
    "from pytket.pyzx import tk_to_pyzx, pyzx_to_tk"
   ]
  },
  {
   "cell_type": "code",
   "execution_count": 16,
   "metadata": {},
   "outputs": [
    {
     "data": {
      "image/png": "[encoded data removed]",
      "text/plain": [
       "<Figure size 576x144 with 1 Axes>"
      ]
     },
     "execution_count": 16,
     "metadata": {},
     "output_type": "execute_result"
    }
   ],
   "source": [
    "Transform.RebaseToPyZX().apply(circ3);\n",
    "pyzx_circuit = tk_to_pyzx(circ3)\n",
    "zx.draw(pyzx_circuit)"
   ]
  },
  {
   "cell_type": "markdown",
   "metadata": {},
   "source": [
    "Now we are going to translate back to our `Circuit`."
   ]
  },
  {
   "cell_type": "code",
   "execution_count": 17,
   "metadata": {},
   "outputs": [
    {
     "name": "stdout",
     "output_type": "stream",
     "text": [
      "Circuit depth =  5\n",
      "Circuit CX count =  6\n",
      "Circuit CX depth =  4\n"
     ]
    }
   ],
   "source": [
    "tk_circuit = pyzx_to_tk(pyzx_circuit)\n",
    "get_stats(tk_circuit)"
   ]
  },
  {
   "cell_type": "markdown",
   "metadata": {},
   "source": [
    "Let's demonstrate conversions to and from each of the other data types - Cirq, PyQuil, ProjectQ. \n",
    "\n",
    "For Cirq, the circuit must be on an architecture, so we have used their `GridQubit` type to allow the conversion to work:"
   ]
  },
  {
   "cell_type": "code",
   "execution_count": 18,
   "metadata": {},
   "outputs": [],
   "source": [
    "import cirq\n",
    "from pytket.cirq import tk_to_cirq, cirq_to_tk\n",
    "\n",
    "Transform.RebaseToCirq().apply(tk_circuit)\n",
    "qubits = [cirq.GridQubit(0, i) for i in range(4)]\n",
    "cirq_circuit=tk_to_cirq(tk_circuit, qubits)"
   ]
  },
  {
   "cell_type": "markdown",
   "metadata": {},
   "source": [
    "We can visualise the circuit using Cirq's tool, although sadly our rebased circuit looks very ugly!"
   ]
  },
  {
   "cell_type": "code",
   "execution_count": 19,
   "metadata": {},
   "outputs": [
    {
     "name": "stdout",
     "output_type": "stream",
     "text": [
      "(0, 0): ───────────────@──────────────────────────────────────────────────────────────────────────────────────────@───────────────────\n",
      "                       │                                                                                          │\n",
      "(0, 1): ───Z───Y^0.5───@───Z───Y^0.5───Z───Y^0.5───@───Z───Y^0.5───S^-1───Z───Y^0.5───@───Z───Y^0.5───Z───Y^0.5───@───────Z───Y^0.5───\n",
      "                                                   │                                  │\n",
      "(0, 2): ───Z───Y^0.5───@───Z───Y^0.5───────────────@──────────────────────────────────@───Z───Y^0.5───@───Z───────Y^0.5───────────────\n",
      "                       │                                                                              │\n",
      "(0, 3): ───────────────@──────────────────────────────────────────────────────────────────────────────@───────────────────────────────\n"
     ]
    }
   ],
   "source": [
    "print(cirq_circuit)"
   ]
  },
  {
   "cell_type": "code",
   "execution_count": 20,
   "metadata": {},
   "outputs": [],
   "source": [
    "tk_circuit = cirq_to_tk(cirq_circuit)"
   ]
  },
  {
   "cell_type": "markdown",
   "metadata": {},
   "source": [
    "For PyQuil, no architecture is required. The program we generate here could be ran on the QVM if so desired."
   ]
  },
  {
   "cell_type": "code",
   "execution_count": 21,
   "metadata": {},
   "outputs": [],
   "source": [
    "from pytket.pyquil import pyquil_to_tk, tk_to_pyquil\n",
    "\n",
    "Transform.RebaseToQuil().apply(tk_circuit)\n",
    "quil_program = tk_to_pyquil(tk_circuit) #to pyquil...\n",
    "\n",
    "tk_circuit = pyquil_to_tk(quil_program) #...and back again"
   ]
  },
  {
   "cell_type": "markdown",
   "metadata": {},
   "source": [
    "For ProjectQ, we must create an engine and allocate a `qureg` object with the correct number of qubits. We will cycle a tket `Circuit` through the ProjectQ engines and retrieve it back out at the end."
   ]
  },
  {
   "cell_type": "code",
   "execution_count": 22,
   "metadata": {},
   "outputs": [],
   "source": [
    "from projectq import MainEngine\n",
    "from pytket.projectq import tk_to_projectq, tketBackendEngine\n",
    "\n",
    "Transform.RebaseToProjectQ().apply(tk_circuit)\n",
    "eng = MainEngine(backend=tketBackendEngine())\n",
    "qureg = eng.allocate_qureg(tk_circuit.n_qubits)\n",
    "tk_to_projectq(eng,qureg,tk_circuit) #takes 3 arguments: the Engine object, the Qubit Register and the tket Circuit\n",
    "eng.flush()\n",
    "\n",
    "tk_circuit = eng.backend.circuit #retrieve our tket Circuit from the backend engine"
   ]
  },
  {
   "cell_type": "markdown",
   "metadata": {},
   "source": [
    "Finally, after all this conversion, let's show that it's still the same circuit! Note that our continual rebases may have added now-obsolete single-qubits, so we can run a quick clean-up pass. This pass does not do any major surgery of the kind `OptimisePhaseGadgets` performs, but it combines single-qubit gates into IBM's `U1`,`U2`,`U3` set and performs other basic simplifications."
   ]
  },
  {
   "cell_type": "code",
   "execution_count": 23,
   "metadata": {},
   "outputs": [
    {
     "name": "stdout",
     "output_type": "stream",
     "text": [
      "                                          \n",
      "q_0: |0>──■────────────────────────────■──\n",
      "        ┌─┴─┐┌───┐┌────────────┐┌───┐┌─┴─┐\n",
      "q_1: |0>┤ X ├┤ X ├┤ U1(1.5*pi) ├┤ X ├┤ X ├\n",
      "        ├───┤└─┬─┘└────────────┘└─┬─┘├───┤\n",
      "q_2: |0>┤ X ├──■──────────────────■──┤ X ├\n",
      "        └─┬─┘                        └─┬─┘\n",
      "q_3: |0>──■────────────────────────────■──\n",
      "                                          \n"
     ]
    }
   ],
   "source": [
    "Transform.OptimisePostRouting().apply(tk_circuit)\n",
    "print_tkcirc_via_qiskit(tk_circuit)"
   ]
  }
 ],
 "metadata": {
  "kernelspec": {
   "display_name": "Python [conda env:tket] *",
   "language": "python",
   "name": "conda-env-tket-py"
  },
  "language_info": {
   "codemirror_mode": {
    "name": "ipython",
    "version": 3
   },
   "file_extension": ".py",
   "mimetype": "text/x-python",
   "name": "python",
   "nbconvert_exporter": "python",
   "pygments_lexer": "ipython3",
   "version": "3.6.8"
  }
 },
 "nbformat": 4,
 "nbformat_minor": 2
}
